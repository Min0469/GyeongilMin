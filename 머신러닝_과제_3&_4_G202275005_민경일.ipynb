{
  "nbformat": 4,
  "nbformat_minor": 0,
  "metadata": {
    "colab": {
      "private_outputs": true,
      "provenance": [],
      "authorship_tag": "ABX9TyPMajR+eYrWF9pMht1piXKV",
      "include_colab_link": true
    },
    "kernelspec": {
      "name": "python3",
      "display_name": "Python 3"
    },
    "language_info": {
      "name": "python"
    }
  },
  "cells": [
    {
      "cell_type": "markdown",
      "metadata": {
        "id": "view-in-github",
        "colab_type": "text"
      },
      "source": [
        "<a href=\"https://colab.research.google.com/github/Min0469/GyeongilMin/blob/main/%EB%A8%B8%EC%8B%A0%EB%9F%AC%EB%8B%9D_%EA%B3%BC%EC%A0%9C_3%26_4_G202275005_%EB%AF%BC%EA%B2%BD%EC%9D%BC.ipynb\" target=\"_parent\"><img src=\"https://colab.research.google.com/assets/colab-badge.svg\" alt=\"Open In Colab\"/></a>"
      ]
    },
    {
      "cell_type": "markdown",
      "source": [
        "#Santander Customer Satisfaction 예측\n",
        "https://velog.io/@bansohi/ML-ch4.9-분류-실습-캐글-산탄데르-고객-만족-예측-using-HyperOpt-XGBoost\n",
        "\n",
        "캐글의 산탄데르 고객 만족 데이터셋에 대해 LigthGBM과 XGBoost를 활용하여 예측한다. feature은 총 370개, 클래스 레이블 명은 TARGET이고, 이때 해당 값이 1이면 불만을 가진 고객, 0이면 만족한 고객을 의미한다.\n",
        "\n",
        "이때, 불균형 데이터셋이므로 모델 성능 평가는 정확도가 아닌 roc-auc로 진행한다."
      ],
      "metadata": {
        "id": "CACBicUVOxaf"
      }
    },
    {
      "cell_type": "markdown",
      "source": [
        "#0. 데이터 다운로드"
      ],
      "metadata": {
        "id": "YQimuLzu700O"
      }
    },
    {
      "cell_type": "code",
      "source": [
        "!pip install kaggle"
      ],
      "metadata": {
        "id": "-VHuE3OfJzjU"
      },
      "execution_count": null,
      "outputs": []
    },
    {
      "cell_type": "code",
      "source": [
        "!mkdir -p ~/.kaggle\n",
        "!cp kaggle.json ~/.kaggle\n",
        "!chmod 600 ~/.kaggle/kaggle.json"
      ],
      "metadata": {
        "id": "uYhutpDzJ23G"
      },
      "execution_count": null,
      "outputs": []
    },
    {
      "cell_type": "code",
      "source": [
        "!kaggle competitions download -c santander-customer-satisfaction"
      ],
      "metadata": {
        "id": "twJY72wtLghK"
      },
      "execution_count": null,
      "outputs": []
    },
    {
      "cell_type": "code",
      "source": [
        "! unzip santander-customer-satisfaction.zip"
      ],
      "metadata": {
        "id": "TdhLoayoNPrT"
      },
      "execution_count": null,
      "outputs": []
    },
    {
      "cell_type": "markdown",
      "source": [
        "#1. Data"
      ],
      "metadata": {
        "id": "KyTBNSDoTFI-"
      }
    },
    {
      "cell_type": "markdown",
      "source": [
        ">> 데이터 로드"
      ],
      "metadata": {
        "id": "0hK5pidyTvYr"
      }
    },
    {
      "cell_type": "code",
      "source": [
        "import numpy as np\n",
        "import pandas as pd\n",
        "import matplotlib.pyplot as plt\n",
        "import matplotlib\n",
        "\n",
        "cust_df = pd.read_csv(\"/content/train.csv\",encoding='latin-1')"
      ],
      "metadata": {
        "id": "Yf9b68gWNhE7"
      },
      "execution_count": null,
      "outputs": []
    },
    {
      "cell_type": "markdown",
      "source": [
        "\n",
        "\n",
        "*   데이터 확인\n",
        "    - 370개의 feature, 1개의 class 열로 구성된 dataframe\n",
        "    - 260개의 정수형 feature, 111개의 실수형 feature로 구성됨\n",
        "    - 결측값은 없음\n",
        "\n"
      ],
      "metadata": {
        "id": "SvNmlrI_PRxt"
      }
    },
    {
      "cell_type": "code",
      "source": [
        "cust_df.info()"
      ],
      "metadata": {
        "id": "BAWwfqNGPUwe"
      },
      "execution_count": null,
      "outputs": []
    },
    {
      "cell_type": "code",
      "source": [
        "## 각 피처의 분포 확인\n",
        "cust_df.describe()"
      ],
      "metadata": {
        "id": "SJPWHKDpPagH"
      },
      "execution_count": null,
      "outputs": []
    },
    {
      "cell_type": "markdown",
      "source": [
        "위 결과를 살펴보면, var3의 경우 min 값이 -999999이다.\n",
        "\n",
        "해당 값은 NaN 또는 이상치 값에 해당되므로 가장 값이 많은 2로 변환할 예정이다. (아래 전처리 정리 내용 참고)"
      ],
      "metadata": {
        "id": "oQzWD1ifPc2A"
      }
    },
    {
      "cell_type": "markdown",
      "source": [
        "#2. Preprocessing"
      ],
      "metadata": {
        "id": "wzQqDsBEXces"
      }
    },
    {
      "cell_type": "markdown",
      "source": [
        ">> feature var3의 이상치 부분 확인"
      ],
      "metadata": {
        "id": "bilHNCz7Xgxn"
      }
    },
    {
      "cell_type": "code",
      "source": [
        "## var3의 -999999 값 => 116개 은 결측값 혹은 이상치에 해당함\n",
        "## 해당 값을 가장 값이 많은 2로 변환함\n",
        "cust_df['var3'].value_counts()"
      ],
      "metadata": {
        "id": "Dprk1omlPeaj"
      },
      "execution_count": null,
      "outputs": []
    },
    {
      "cell_type": "markdown",
      "source": [
        ">> 해당 값을 값이 가장 많은 2로 변환"
      ],
      "metadata": {
        "id": "H4r4trl2XsK5"
      }
    },
    {
      "cell_type": "code",
      "source": [
        "## -999999 => 2\n",
        "cust_df['var3'].replace(-99999, 2, inplace=True)"
      ],
      "metadata": {
        "id": "xxRzbd2vXuma"
      },
      "execution_count": null,
      "outputs": []
    },
    {
      "cell_type": "markdown",
      "source": [
        ">> feature ID 는 단순 식별자에 해당하므로 드롭"
      ],
      "metadata": {
        "id": "B7_xEbZ1Xxd6"
      }
    },
    {
      "cell_type": "code",
      "source": [
        "## ID 열은 단순 식별자에 해당하므로 드롭\n",
        "cust_df.drop('ID', axis=1, inplace=True)"
      ],
      "metadata": {
        "id": "m6M4rpj7XzIk"
      },
      "execution_count": null,
      "outputs": []
    },
    {
      "cell_type": "markdown",
      "source": [
        ">> feature와 class 분리"
      ],
      "metadata": {
        "id": "Mg0yTBRAagPL"
      }
    },
    {
      "cell_type": "code",
      "source": [
        "## feature와 class 분리\n",
        "X_features = cust_df.iloc[:, :-1]\n",
        "y_labels = cust_df.iloc[:, -1]"
      ],
      "metadata": {
        "id": "FZSLVcvTakpJ"
      },
      "execution_count": null,
      "outputs": []
    },
    {
      "cell_type": "markdown",
      "source": [
        ">>train, val, test 으로 데이터셋 분리 (불균형 데이터셋임을 고려하여 비슷한 비율로 split 되었는지를 확인!)"
      ],
      "metadata": {
        "id": "oafM-E3x5jQq"
      }
    },
    {
      "cell_type": "code",
      "source": [
        "from sklearn.model_selection import train_test_split\n",
        "\n",
        "## train, test 데이터 분리\n",
        "X_train, X_test, y_train, y_test = train_test_split(\n",
        "    X_features,\n",
        "    y_labels,\n",
        "    test_size=0.2,\n",
        "    random_state=0\n",
        ")"
      ],
      "metadata": {
        "id": "71JTmMRM5nAO"
      },
      "execution_count": null,
      "outputs": []
    },
    {
      "cell_type": "code",
      "source": [
        "## 불균형한 데이터셋이므로 traget 값 분포도 확인\n",
        "print(y_train.value_counts() / y_train.count())\n",
        "print(y_test.value_counts() / y_test.count())"
      ],
      "metadata": {
        "id": "Yyr4Al2f5riw"
      },
      "execution_count": null,
      "outputs": []
    },
    {
      "cell_type": "code",
      "source": [
        "## XGBoost, LightGBM의 early stopping을 사용하기 위해 train => train, val로 다시 분리\n",
        "X_tr, X_val, y_tr, y_val = train_test_split(\n",
        "    X_train,\n",
        "    y_train,\n",
        "    test_size=0.3,\n",
        "    random_state=0\n",
        ")"
      ],
      "metadata": {
        "id": "hEyrm5OY5uim"
      },
      "execution_count": null,
      "outputs": []
    },
    {
      "cell_type": "markdown",
      "source": [
        "#3. XGBoost Model"
      ],
      "metadata": {
        "id": "yAvqLCwt5xvl"
      }
    },
    {
      "cell_type": "markdown",
      "source": [
        ">> HyperOpt를 사용하여 XGBoost 최적 하이퍼 파라미터 찾기\n",
        "\n",
        " -  HyperOpt를 사용하여 하이퍼 파라미터 튜닝을 수행할 때, 1) 검색 공간 설정 2) 목적 함수 설정 3) fmin()으로 최적 하이퍼 파라미터 찾기 순서로 진행됨\n",
        " - 주의사항은 XGBoost와 LightGBM에서는 cross_val_score()를 적용하면 early stopping 지원 불가하다는 것! 따라서 KFold 방식으로 직접 구현해야 함"
      ],
      "metadata": {
        "id": "_-ovEs3Z52gZ"
      }
    },
    {
      "cell_type": "code",
      "source": [
        "## 1) 검색 공간 설정\n",
        "\n",
        "from hyperopt import hp\n",
        "\n",
        "xgb_search_space = {\n",
        "    'max_depth':hp.quniform('max_depth', 5, 15, 1),                     ## 정수형 하이퍼 파라미터 => quniform 사용\n",
        "    'min_child_weight':hp.quniform('min_child_weight', 1, 6, 1),        ## 정수형 하이퍼 파라미터 => quniform 사용\n",
        "    'learning_rate':hp.uniform('learning_rate', 0.01, 0.2),\n",
        "    'colsample_bytree':hp.uniform('colsample_bytree', 0.5, 0.95),\n",
        "}"
      ],
      "metadata": {
        "id": "G3WamYv5570R"
      },
      "execution_count": null,
      "outputs": []
    },
    {
      "cell_type": "code",
      "source": [
        "## 2) 목적 함수 설정\n",
        "\n",
        "from sklearn.model_selection import KFold\n",
        "from sklearn.metrics import roc_auc_score\n",
        "from xgboost import XGBClassifier\n",
        "from sklearn.metrics import roc_auc_score\n",
        "\n",
        "def objective_func(search_space):\n",
        "\n",
        "  xgb_clf = XGBClassifier(\n",
        "      n_estimators=100,\n",
        "      max_depth=int(search_space['max_depth']),                ## int형으로 형변환 필요\n",
        "      min_child_weight=int(search_space['min_child_weight']),  ## int형으로 형변환 필요\n",
        "      learning_rate=search_space['learning_rate'],\n",
        "      colsample_bytree=search_space['colsample_bytree'],\n",
        "      #eval_metric='logloss' => 불균형 데이터셋이므로 성능 평가 지표를 roc-auc로 설정\n",
        "      )\n",
        "\n",
        "      ## XGBoost와 LightGBM에서는 cross_val_score()를 적용하면 early stopping 지원 불가, KFold 방식으로 직접 구현해야 함\n",
        "      ## 3개의 k-fold 방식으로 평가된 roc-auc 지표를 담는 list\n",
        "  roc_auc_list = []\n",
        "\n",
        "  ## 3개의 k-fold 방식 적용\n",
        "  kf = KFold(n_splits=3)\n",
        "\n",
        "  for tr_index, val_index in kf.split(X_train):\n",
        "\n",
        "    X_tr, y_tr = X_train.iloc[tr_index], y_train.iloc[tr_index]\n",
        "    X_val, y_val = X_train.iloc[val_index], y_train.iloc[val_index]\n",
        "\n",
        "    xgb_clf.fit(\n",
        "        X_tr, y_tr,\n",
        "        early_stopping_rounds=30,\n",
        "        eval_metric='auc',\n",
        "        eval_set=[(X_tr, y_tr), (X_val, y_val)]\n",
        "    )\n",
        "\n",
        "    score = roc_auc_score(\n",
        "        y_val,\n",
        "        xgb_clf.predict_proba(X_val)[:, 1]\n",
        "    )\n",
        "\n",
        "    roc_auc_list.append(score)\n",
        "\n",
        "  return (-1) * np.mean(roc_auc_list)\n",
        "\n",
        "## 3) fmin()을 사용하여 최적 하이퍼 파라미터 찾기\n",
        "\n",
        "from hyperopt import fmin, tpe, Trials\n",
        "\n",
        "trials = Trials()\n",
        "\n",
        "best = fmin(\n",
        "    fn=objective_func,\n",
        "    space=xgb_search_space,\n",
        "    algo=tpe.suggest,\n",
        "    max_evals=50,\n",
        "    trials=trials,\n",
        ")"
      ],
      "metadata": {
        "id": "YaISCBuv5-1m"
      },
      "execution_count": null,
      "outputs": []
    },
    {
      "cell_type": "markdown",
      "source": [
        ">> 최적 하이퍼 파라미터를 이용하여 XGBoost 모델 선언"
      ],
      "metadata": {
        "id": "RfsI7mH2FYmY"
      }
    },
    {
      "cell_type": "code",
      "source": [
        "## 획득한 최적의 하이퍼 파라미터를 이용하여 모델 선언\n",
        "xgb_wrapper = XGBClassifier(\n",
        "    n_estimators=500,\n",
        "    learning_rate=round(best['learning_rate'], 5),\n",
        "    max_depth=int(best['max_depth']),\n",
        "    min_child_weight=int(best['min_child_weight']),\n",
        "    colsample_bytree=round(best['colsample_bytree'], 5)\n",
        ")"
      ],
      "metadata": {
        "id": "P_SQj4LTFbL_"
      },
      "execution_count": null,
      "outputs": []
    },
    {
      "cell_type": "markdown",
      "source": [
        ">> 모델 학습"
      ],
      "metadata": {
        "id": "OUeSlaJfFfVv"
      }
    },
    {
      "cell_type": "code",
      "source": [
        "xgb_wrapper.fit(\n",
        "    X_tr, y_tr,\n",
        "    early_stopping_rounds=100,  # 올바른 매개변수 이름 사용\n",
        "    eval_metric='auc',\n",
        "    eval_set=[(X_tr, y_tr), (X_test, y_test)]\n",
        ")"
      ],
      "metadata": {
        "id": "FhMXhnSsFd_F"
      },
      "execution_count": null,
      "outputs": []
    },
    {
      "cell_type": "markdown",
      "source": [
        ">> 모델 평가"
      ],
      "metadata": {
        "id": "3J1u1nFeF-zz"
      }
    },
    {
      "cell_type": "code",
      "source": [
        "xgb_roc_score = roc_auc_score(\n",
        "    y_test,\n",
        "    xgb_wrapper.predict_proba(X_test)[:, 1]\n",
        ")\n",
        "\n",
        "xgb_roc_score"
      ],
      "metadata": {
        "id": "hZ0S2WdvGBgk"
      },
      "execution_count": null,
      "outputs": []
    },
    {
      "cell_type": "markdown",
      "source": [
        ">> feature importance 확인"
      ],
      "metadata": {
        "id": "N_GsOQAyGfSh"
      }
    },
    {
      "cell_type": "code",
      "source": [
        "from xgboost import plot_importance\n",
        "import matplotlib.pyplot as plt\n",
        "\n",
        "fig, ax = plt.subplots(1, 1, figsize=(10, 8))\n",
        "plot_importance(xgb_wrapper,\n",
        "                ax=ax,\n",
        "                max_num_features=20,\n",
        "                height=0.4,\n",
        "                )"
      ],
      "metadata": {
        "id": "fvIk86JpGhbJ"
      },
      "execution_count": null,
      "outputs": []
    }
  ]
}